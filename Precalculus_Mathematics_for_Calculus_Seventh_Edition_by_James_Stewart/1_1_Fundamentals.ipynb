{
 "cells": [
  {
   "cell_type": "markdown",
   "metadata": {},
   "source": []
  },
  {
   "cell_type": "code",
   "execution_count": null,
   "metadata": {},
   "outputs": [
    {
     "data": {
      "text/plain": [
       "set()"
      ]
     },
     "execution_count": 5,
     "metadata": {},
     "output_type": "execute_result"
    }
   ],
   "source": [
    "A = {1, 2, 3, 4, 5, 6, 7}\n",
    "B = {2, 4, 6, 8}\n",
    "C = {7, 8, 9, 10}\n",
    "\n",
    "B.union(C)\n",
    "B.intersection(C)\n",
    "A.union(B).union(C)\n",
    "A.intersection(B).intersection(C)\n"
   ]
  },
  {
   "cell_type": "code",
   "execution_count": 27,
   "metadata": {},
   "outputs": [
    {
     "data": {
      "image/png": "[encoded data removed]",
      "text/plain": [
       "<Figure size 1000x100 with 1 Axes>"
      ]
     },
     "metadata": {},
     "output_type": "display_data"
    }
   ],
   "source": [
    "import matplotlib.pyplot as plt\n",
    "import numpy as np\n",
    "\n",
    "# Set up the figure and axes\n",
    "fig, ax = plt.subplots(figsize=(10, 1))\n",
    "\n",
    "ax.set_xlim(-10, 10)\n",
    "ax.get_yaxis().set_visible(False)\n",
    "ax.spines['top'].set_visible(False)\n",
    "ax.spines['right'].set_visible(False)\n",
    "ax.spines['left'].set_visible(False)\n",
    "ax.spines['bottom'].set_position(('data', 0))\n",
    "ax.set_xticks(np.arange(-10, 11, 1))\n",
    "\n",
    "# Plot the solution set for x > 3\n",
    "x_1 = np.array([-10, -5/2])\n",
    "y_sol = np.array([0, 0])\n",
    "ax.plot(x_1, y_sol, linewidth=3, color='red')\n",
    "# x_2 = np.array([3, 10])\n",
    "# ax.plot(x_2, y_sol, linewidth=3, color='red')\n",
    "ax.plot(-5/2, 0, marker='o', markersize=8, markerfacecolor='white', markeredgecolor='red')\n",
    "\n",
    "ax.text(-1, 0.1, 'x < -5/2', fontsize=12, color='red')\n",
    "\n",
    "plt.tight_layout()\n",
    "plt.show()"
   ]
  }
 ],
 "metadata": {
  "kernelspec": {
   "display_name": "Python 3",
   "language": "python",
   "name": "python3"
  },
  "language_info": {
   "codemirror_mode": {
    "name": "ipython",
    "version": 3
   },
   "file_extension": ".py",
   "mimetype": "text/x-python",
   "name": "python",
   "nbconvert_exporter": "python",
   "pygments_lexer": "ipython3",
   "version": "3.12.5"
  }
 },
 "nbformat": 4,
 "nbformat_minor": 2
}
