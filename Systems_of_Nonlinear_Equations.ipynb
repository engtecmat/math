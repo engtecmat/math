{
 "cells": [
  {
   "cell_type": "code",
   "execution_count": 31,
   "metadata": {},
   "outputs": [
    {
     "data": {
      "text/latex": [
       "$\\displaystyle \\left(x - 320\\right) \\left(x - 80\\right)$"
      ],
      "text/plain": [
       "(x - 320)⋅(x - 80)"
      ]
     },
     "execution_count": 31,
     "metadata": {},
     "output_type": "execute_result"
    }
   ],
   "source": [
    "from sympy import *\n",
    "x, y, z, A, B, C, D, E, F, G, H, a1, b1 = symbols('x y z A B C D E F G H a1, b1')\n",
    "init_printing(use_unicode=True)\n",
    "\n",
    "factor(x ** 2 - 400 * x + 25600)\n"
   ]
  },
  {
   "cell_type": "code",
   "execution_count": 1,
   "metadata": {},
   "outputs": [
    {
     "data": {
      "text/plain": [
       "{x: 17000/57, y: 5000/19}"
      ]
     },
     "execution_count": 1,
     "metadata": {},
     "output_type": "execute_result"
    }
   ],
   "source": [
    "from sympy import *\n",
    "from sympy.abc import x, y, z, e\n",
    "# solve([x**2 + y ** 2 - 25, y - 2 * x], x, y, dict=True)\n",
    "# solve([3 * x**2 + 4 * y - 17, 2 * x ** 2 + 5 * y - 2], x, y, dict=True)\n",
    "# solve([2 * x**2 + 4 * y - 13, x ** 2 - y ** 2 - 7/2], x, y, dict=True)\n",
    "# solve([x ** 2 - y ** 2 - 1, 2 * x ** 2 - y ** 2 - x - 3], x, y, dict=True)\n",
    "# solve([x * y - 24, 2 * x ** 2 - y ** 2 + 4], x, y, dict=False)\n",
    "# solve([x + sqrt(y), y ** 2 - 4 * x ** 2 - 12], x, y, dict=False)\n",
    "# solve([x ** 2 + 2 * y ** 2 - 2, 2 * x ** 2 - 3 * y - 15], x, y, dict=False)\n",
    "# solve([x ** 4 + y ** 3 - 17, 3 * x ** 4 + 5 * y ** 3 - 53], x, y, dict=False)\n",
    "# solve([4 / x ** 2 + 6 / y ** 4 - 7 / 2, 1 / x ** 2 - 2 / y ** 4], x, y, dict=False)\n",
    "# solve([x ** 2 - 4 * x - y, 2 * x - y - 2], x, y, dict=False)\n",
    "# solve([x ** 2 + y ** 2 - 17, x ** 2 - 2 * x + y ** 2 - 13], x, y, dict=False)\n",
    "# solve([exp(x) + exp(-x) - y, 5 - x **2 - y], x, y, dict=False)\n",
    "# solve([Eq(log(x) + log(y), 3 / 2), Eq(2 * log(x) - log(y),0)], x, y, dict=False) # the anser is wrong\n",
    "# solve([2 ** x + 2 ** y - 10, 4 ** x + 4 ** y - 68], x, y, dict=False)\n",
    "# solve([Eq(x ** 2 + x * y, 1), Eq(x * y + y ** 2, 3)], x, y, dict=False)\n",
    "# solve([Eq(x ** 2 + y ** 2, 400), Eq(x * y, 160)], x, y, dict=False)\n",
    "solve([Eq(90 * x + 50 * y, 40000), Eq(30 * x + 80 * y, 30000)], x, y, dict=False)\n",
    "\n"
   ]
  },
  {
   "cell_type": "markdown",
   "metadata": {},
   "source": []
  },
  {
   "cell_type": "code",
   "execution_count": 5,
   "metadata": {},
   "outputs": [
    {
     "name": "stdout",
     "output_type": "stream",
     "text": [
      "[{x: 1.64872127070013, y: 2.71828182845905}]\n"
     ]
    }
   ],
   "source": [
    "from sympy import symbols, Eq, solve, log\n",
    "\n",
    "x, y = symbols('x y')\n",
    "eq1 = Eq(log(x) + log(y), 3/2)\n",
    "eq2 = Eq(2*log(x) - log(y), 0)\n",
    "solution = solve([eq1, eq2])\n",
    "\n",
    "print(solution)"
   ]
  }
 ],
 "metadata": {
  "kernelspec": {
   "display_name": "Python 3",
   "language": "python",
   "name": "python3"
  },
  "language_info": {
   "codemirror_mode": {
    "name": "ipython",
    "version": 3
   },
   "file_extension": ".py",
   "mimetype": "text/x-python",
   "name": "python",
   "nbconvert_exporter": "python",
   "pygments_lexer": "ipython3",
   "version": "3.12.5"
  }
 },
 "nbformat": 4,
 "nbformat_minor": 2
}
